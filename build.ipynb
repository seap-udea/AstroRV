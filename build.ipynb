{
 "cells": [
  {
   "cell_type": "markdown",
   "metadata": {},
   "source": [
    "# AstroRV Catalog Ensambling"
   ]
  },
  {
   "cell_type": "code",
   "execution_count": 1,
   "metadata": {},
   "outputs": [],
   "source": [
    "# =============================================================================\n",
    "# Libraries\n",
    "# =============================================================================\n",
    "import pandas as pd\n",
    "import numpy as np\n",
    "import urllib.request\n",
    "import collections\n",
    "import os,re\n",
    "import time\n",
    "pd.options.mode.chained_assignment = None\n",
    "\n",
    "# =============================================================================\n",
    "# Data directories\n",
    "# =============================================================================\n",
    "dir_gaia = \"src/Astro/\"\n",
    "dir_hip = \"src/Astro/\"\n",
    "dir_simbad = \"src/Astro/\"\n",
    "dir_rv = \"src/RV/\"\n",
    "dir_results = \"src/\""
   ]
  },
  {
   "cell_type": "markdown",
   "metadata": {},
   "source": [
    "## =============================================================================\n",
    "## Load Gaia database\n",
    "## ============================================================================="
   ]
  },
  {
   "cell_type": "code",
   "execution_count": 2,
   "metadata": {},
   "outputs": [
    {
     "name": "stdout",
     "output_type": "stream",
     "text": [
      "\n",
      "Database Gaia-TGAS: \n",
      "Original objects: 2057050 \n",
      "Discarded objects: 30840 \n",
      "Final objects: 2026210\n"
     ]
    }
   ],
   "source": [
    "t0 = time.time()\n",
    "cols_gaia = [\"source_id\", \"hip\", \"tycho2_id\", \"ra\", \"ra_error\", \"dec\", \"dec_error\", \"parallax\", \"parallax_error\", \n",
    "             \"pmra\", \"pmra_error\", \"pmdec\", \"pmdec_error\", \"ra_dec_corr\", \"ra_parallax_corr\", \"ra_pmra_corr\", \n",
    "             \"ra_pmdec_corr\", \"dec_parallax_corr\", \"dec_pmra_corr\", \"dec_pmdec_corr\", \"parallax_pmra_corr\", \n",
    "             \"parallax_pmdec_corr\", \"pmra_pmdec_corr\", \"phot_g_mean_flux\", \"phot_g_mean_flux_error\", \"phot_g_mean_mag\", \n",
    "             \"l\", \"b\", \"ecl_lon\", \"ecl_lat\"]\n",
    "\n",
    "gaia = pd.DataFrame()\n",
    "for i in range(16):\n",
    "    filename = dir_gaia + \"TgasSource_000-000-0\" + str(i).zfill(2) + \".csv.gz\"\n",
    "    gaia = gaia.append(pd.read_csv(filename, usecols=cols_gaia))\n",
    "\n",
    "gaia.source_id = gaia.source_id.astype(str)\n",
    "gaia.hip = gaia.hip.astype(str)\n",
    "gaia.tycho2_id = gaia.tycho2_id.astype(str)\n",
    "\n",
    "gaia[\"hip\"] = gaia[\"hip\"].map(lambda x: x.replace(\".0\", \"\"))\n",
    "gaia.hip.replace(\"nan\", \"\", inplace=True)\n",
    "gaia.tycho2_id.replace(\"nan\", \"\", regex=True, inplace=True)\n",
    "\n",
    "n1 = len(gaia)\n",
    "gaia = gaia[gaia.parallax > 0]\n",
    "n2 = len(gaia)\n",
    "print(\"\\nDatabase Gaia-TGAS:\", \"\\nOriginal objects:\", n1,\"\\nDiscarded objects:\", n1-n2,\"\\nFinal objects:\", n2)\n",
    "\n",
    "gaia_hip = gaia[gaia.hip != \"\"]\n",
    "gaia_tyc = gaia[gaia.tycho2_id != \"\"]"
   ]
  },
  {
   "cell_type": "markdown",
   "metadata": {},
   "source": [
    "## =============================================================================\n",
    "## Load Hipparcos database\n",
    "## ============================================================================="
   ]
  },
  {
   "cell_type": "code",
   "execution_count": 3,
   "metadata": {},
   "outputs": [
    {
     "name": "stderr",
     "output_type": "stream",
     "text": [
      "/home/iwander/.local/lib/python3.5/site-packages/IPython/core/interactiveshell.py:2728: DtypeWarning: Columns (5) have mixed types. Specify dtype option on import or set low_memory=False.\n",
      "  interactivity=interactivity, compiler=compiler, result=result)\n"
     ]
    },
    {
     "name": "stdout",
     "output_type": "stream",
     "text": [
      "\n",
      "Database Hipparcos: \n",
      "Original objects: 118218 \n",
      "Discarded objects: 263 \n",
      "Final objects: 117955\n"
     ]
    }
   ],
   "source": [
    "# Available in: http://cdsarc.u-strasbg.fr/viz-bin/Cat?cat=I%2F239&target=readme&#sRM2.1\n",
    "names_hip={}\n",
    "names_hip[1] = \"hip\"\n",
    "names_hip[8] = \"ra_hip\"\n",
    "names_hip[9] = \"dec_hip\"\n",
    "names_hip[14] = \"ra_error_hip\"\n",
    "names_hip[15] = \"dec_error_hip\"\n",
    "names_hip[19] = \"ra_dec_corr_hip\"\n",
    "names_hip[20] = \"ra_parallax_corr_hip\"\n",
    "names_hip[21] = \"dec_parallax_corr_hip\"\n",
    "names_hip[22] = \"ra_pmra_corr_hip\"\n",
    "names_hip[23] = \"dec_pmra_corr_hip\"\n",
    "names_hip[24] = \"parallax_pmra_corr_hip\"\n",
    "names_hip[25] = \"ra_pmdec_corr_hip\"\n",
    "names_hip[26] = \"dec_pmdec_corr_hip\"\n",
    "names_hip[27] = \"parallax_pmdec_corr_hip\"\n",
    "names_hip[28] = \"pmra_pmdec_corr_hip\"\n",
    "names_hip[5] = \"Vmag_hip\"\n",
    "names_hip[71] = \"HenryDraperId_hip\"\n",
    "#The following columns are not read and left to the improved Hipparcos catalogue:\n",
    "# names_hip[11] = \"parallax_hip\"\n",
    "# names_hip[12] = \"pmra_hip\"\n",
    "# names_hip[13] = \"pmdec_hip\"\n",
    "# names_hip[16] = \"parallax_error_hip\"\n",
    "# names_hip[17] = \"pmra_error_hip\"\n",
    "# names_hip[18] = \"pmdec_error_hip\"\n",
    "#names2_hip[76] = \"sptype_hip\"\n",
    "\n",
    "names_hip = collections.OrderedDict(sorted(names_hip.items()))\n",
    "\n",
    "hipparcos = pd.read_csv(dir_hip + \"hip_main.dat.gz\", delimiter=\"|\", usecols=names_hip.keys(), names=names_hip.values())\n",
    "\n",
    "# Columns format\n",
    "cols = hipparcos.columns.tolist()\n",
    "objects = [\"hip\", \"HenryDraperId_hip\"]\n",
    "cols = [x for x in cols if x not in objects]\n",
    "hipparcos[cols] = hipparcos[cols].apply(pd.to_numeric, errors='coerce')\n",
    "\n",
    "hipparcos.hip = hipparcos.hip.astype(str)\n",
    "hipparcos.hip = hipparcos.hip.map(lambda x: x.replace(\".0\", \"\"))\n",
    "\n",
    "# Delete null astrometry values\n",
    "n1 = len(hipparcos)\n",
    "hipparcos.dropna(subset=[\"ra_hip\", \"dec_hip\"], how=\"any\", inplace=True)\n",
    "n2 = len(hipparcos)\n",
    "print(\"\\nDatabase Hipparcos:\", \"\\nOriginal objects:\", n1,\"\\nDiscarded objects:\", n1-n2,\"\\nFinal objects:\", n2)"
   ]
  },
  {
   "cell_type": "markdown",
   "metadata": {},
   "source": [
    "## =============================================================================\n",
    "## Load Hipparcos improved\n",
    "## ============================================================================="
   ]
  },
  {
   "cell_type": "code",
   "execution_count": 16,
   "metadata": {},
   "outputs": [
    {
     "name": "stdout",
     "output_type": "stream",
     "text": [
      "\n",
      "Database Hipparcos improved: \n",
      "Original objects: 113942 \n",
      "Discarded objects: 0 \n",
      "Final objects: 113942\n"
     ]
    }
   ],
   "source": [
    "comments=list(range(95))+[96,97]\n",
    "hipvan=pd.read_csv(dir_hip + \"HipVanLeeuwen2007.tsv\",sep=\";\",skiprows=comments)\n",
    "hipvan=hipvan[['_RAJ2000', '_DEJ2000', 'HIP', 'Plx', 'e_Plx', 'pmRA', 'e_pmRA',\n",
    "       'pmDE', 'e_pmDE','Hpmag', 'e_Hpmag', 'B-V', 'e_B-V', 'V-I']]\n",
    "columns={'_RAJ2000':'ra_hip', '_DEJ2000':'dec_hip', 'HIP':'hip', \n",
    "         'Plx':'parallax_hip', 'e_Plx':'parallax_error_hip', \n",
    "         'pmRA':'pmra_hip', 'e_pmRA':'pmra_error_hip',\n",
    "         'pmDE':'pmdec_hip', 'e_pmDE':'pmdec_error_hip','Hpmag':'Hpmag_hip', \n",
    "         'e_Hpmag':'e_Hpmag_hip', 'B-V':'B_V_hip', 'e_B-V':'e_B_V_hip',\n",
    "         'V-I':'V_I_hip'}\n",
    "hipvan.rename(columns=columns,inplace=True)\n",
    "\n",
    "cols = hipvan.columns.tolist()\n",
    "objects = [\"hip\"]\n",
    "cols = [x for x in cols if x not in objects]\n",
    "hipvan[cols] = hipvan[cols].apply(pd.to_numeric, errors='coerce')\n",
    "\n",
    "hipvan.hip = hipvan.hip.astype(str)\n",
    "hipvan.hip = hipvan.hip.map(lambda x: x.replace(\".0\", \"\"))\n",
    "\n",
    "hipvan=hipvan[hipvan.parallax_hip > 0]\n",
    "\n",
    "# Delete null astrometry values\n",
    "n1 = len(hipvan)\n",
    "hipvan.dropna(subset=[\"ra_hip\", \"dec_hip\", \"parallax_hip\"], how=\"any\", inplace=True)\n",
    "n2 = len(hipvan)\n",
    "print(\"\\nDatabase Hipparcos improved:\", \"\\nOriginal objects:\", n1,\"\\nDiscarded objects:\", n1-n2,\"\\nFinal objects:\", n2)"
   ]
  },
  {
   "cell_type": "code",
   "execution_count": 19,
   "metadata": {},
   "outputs": [],
   "source": [
    "# Merge Hipparcos + HipVanLeeuwen2007\n",
    "cols = ['hip', 'parallax_hip', 'pmra_hip', 'pmdec_hip', 'parallax_error_hip', 'pmra_error_hip','pmdec_error_hip']\n",
    "hipparcos = hipparcos.merge(hipvan[cols], on='hip', how='left')"
   ]
  },
  {
   "cell_type": "markdown",
   "metadata": {},
   "source": [
    "## =============================================================================\n",
    "## Load Tycho database\n",
    "## ============================================================================="
   ]
  },
  {
   "cell_type": "code",
   "execution_count": 22,
   "metadata": {},
   "outputs": [
    {
     "name": "stdout",
     "output_type": "stream",
     "text": [
      "\n",
      "Database Tycho: \n",
      "Original objects: 579054 \n",
      "Discarded objects: 0 \n",
      "Final objects: 579054\n"
     ]
    }
   ],
   "source": [
    "# Available in: http://cdsarc.u-strasbg.fr/viz-bin/Cat?cat=I%2F239&target=readme&#sRM2.13\n",
    "\n",
    "names_tyc={}\n",
    "names_tyc[1] = \"tycho2_id\"\n",
    "names_tyc[8] = \"ra_tyc\"\n",
    "names_tyc[9] = \"dec_tyc\"\n",
    "names_tyc[11] = \"parallax_tyc\"\n",
    "names_tyc[12] = \"pmra_tyc\"\n",
    "names_tyc[13] = \"pmdec_tyc\"\n",
    "names_tyc[14] = \"ra_error_tyc\"\n",
    "names_tyc[15] = \"dec_error_tyc\"\n",
    "names_tyc[16] = \"parallax_error_tyc\"\n",
    "names_tyc[17] = \"pmra_error_tyc\"\n",
    "names_tyc[18] = \"pmdec_error_tyc\"\n",
    "names_tyc[19] = \"ra_dec_corr_tyc\"\n",
    "names_tyc[20] = \"ra_parallax_corr_tyc\"\n",
    "names_tyc[21] = \"dec_parallax_corr_tyc\"\n",
    "names_tyc[22] = \"ra_pmra_corr_tyc\"\n",
    "names_tyc[23] = \"dec_pmra_corr_tyc\"\n",
    "names_tyc[24] = \"parallax_pmra_corr_tyc\"\n",
    "names_tyc[25] = \"ra_pmdec_corr_tyc\"\n",
    "names_tyc[26] = \"dec_pmdec_corr_tyc\"\n",
    "names_tyc[27] = \"parallax_pmdec_corr_tyc\"\n",
    "names_tyc[28] = \"pmra_pmdec_corr_tyc\"\n",
    "names_tyc[53] = \"HenryDraperId_tyc\"\n",
    "names_tyc[5] = \"Vmag_tyc\"\n",
    "\n",
    "names_tyc = collections.OrderedDict(sorted(names_tyc.items()))\n",
    "\n",
    "tycho = pd.read_csv(dir_hip + \"tyc_main.zip\", delimiter=\"|\", usecols = names_tyc.keys(), names = names_tyc.values())\n",
    "\n",
    "# Split original tycho-id header which separated by white-space\n",
    "tycho[\"a\"], tycho[\"b\"], tycho[\"c\"] = tycho[\"tycho2_id\"].str.split().str\n",
    "\n",
    "# Concatenate tycho-id headers using \"-\"\n",
    "tycho[\"tycho2_id\"] = tycho[\"a\"] + \"-\" + tycho[\"b\"] + \"-\" + tycho[\"c\"]\n",
    "\n",
    "# Delete auxiliar columns used in conversion\n",
    "del tycho[\"a\"], tycho[\"b\"], tycho[\"c\"]\n",
    "\n",
    "# Columns format\n",
    "cols = tycho.columns.tolist()\n",
    "objects = [\"tycho2_id\", \"HenryDraperId_tyc\"]\n",
    "cols = [x for x in cols if x not in objects]\n",
    "tycho[cols] = tycho[cols].apply(pd.to_numeric, errors='coerce')\n",
    "\n",
    "tycho=tycho[tycho.parallax_tyc > 0]\n",
    "\n",
    "# Delete null astrometry values\n",
    "n1 = len(tycho)\n",
    "tycho.dropna(subset=[\"ra_tyc\", \"dec_tyc\", \"parallax_tyc\"], how=\"any\", inplace=True)\n",
    "n2 = len(tycho)\n",
    "print(\"\\nDatabase Tycho:\", \"\\nOriginal objects:\", n1,\"\\nDiscarded objects:\", n1-n2,\"\\nFinal objects:\", n2)"
   ]
  },
  {
   "cell_type": "markdown",
   "metadata": {},
   "source": [
    "## =============================================================================\n",
    "## Load Simbad-Hipparcos database\n",
    "## ============================================================================="
   ]
  },
  {
   "cell_type": "code",
   "execution_count": 23,
   "metadata": {},
   "outputs": [
    {
     "name": "stdout",
     "output_type": "stream",
     "text": [
      "\n",
      "Database Simbad: \n",
      "Original objects: 118179 \n",
      "Discarded objects: 175 \n",
      "Final objects: 118004\n"
     ]
    }
   ],
   "source": [
    "cols = [\"typedident\",\"identifier\", \"radvel\", \"coord1(ICRS,J2000/2000)\", \"plx\", \"pm\", \"MagV\", \"spec.type\"]\n",
    "simbad = pd.read_csv(dir_simbad + \"simbad.zip\", usecols=cols, delimiter=\"|\")\n",
    "\n",
    "# Modify ID\n",
    "simbad[\"hip\"] = simbad[\"typedident\"].map(lambda x: str(x)[4:]).astype(str)\n",
    "simbad[\"hip\"] = simbad[\"hip\"].str.strip()\n",
    "del simbad[\"typedident\"]\n",
    "\n",
    "# Right ascension and declination format\n",
    "# 1. Delete white-spaces on both sides of the text\n",
    "simbad[\"coord1(ICRS,J2000/2000)\"] = simbad[\"coord1(ICRS,J2000/2000)\"].str.strip()\n",
    "\n",
    "# 2. Split string into 6 values (hh:mm:ss for RA and hh:mm:ss for DEC)\n",
    "simbad[\"ra_h\"], simbad[\"ra_m\"], simbad[\"ra_s\"], simbad[\"dec_h\"], simbad[\"dec_m\"], simbad[\"dec_s\"] = \\\n",
    "    simbad[\"coord1(ICRS,J2000/2000)\"].str.split(\" \").str\n",
    "\n",
    "# 3. Concatenate the first 3 fields (RA) using conversion formule from hh:mm:ss to degrees\n",
    "simbad[\"ra_simbad\"] = simbad[\"ra_h\"].astype(float)*15 + simbad[\"ra_m\"].astype(float)/60 + simbad[\"ra_s\"].astype(float)/3600\n",
    "\n",
    "# 4. Concatenate the last 3 fields (DEC) using conversion formule from hh:mm:ss to degrees\n",
    "simbad[\"dec_simbad\"] = np.sign(simbad[\"dec_h\"].astype(float)) * ( \\\n",
    "    np.abs(simbad[\"dec_h\"].astype(float)) + simbad[\"dec_m\"].astype(float)/60 + simbad[\"dec_s\"].astype(float)/3600 )\n",
    "\n",
    "# 5. Delete auxiliar columns used in conversion\n",
    "del simbad[\"coord1(ICRS,J2000/2000)\"]\n",
    "del simbad[\"ra_h\"], simbad[\"ra_m\"], simbad[\"ra_s\"], simbad[\"dec_h\"], simbad[\"dec_m\"], simbad[\"dec_s\"]\n",
    "\n",
    "# Proper motion format\n",
    "# 1. Delete white-spaces on both sides of the text\n",
    "simbad[\"pm\"] = simbad[\"pm\"].str.strip()\n",
    "\n",
    "# 2. Split string into 2 values (pm_ra and pm_dec)\n",
    "simbad[\"pmra_simbad\"], simbad[\"pmdec_simbad\"] = simbad[\"pm\"].str.split(\" \").str\n",
    "\n",
    "# 3. Delete auxiliar columns used in conversion\n",
    "del simbad[\"pm\"]\n",
    "\n",
    "# Modify name columns\n",
    "simbad = simbad.rename(columns={\"identifier\": \"name_simbad\"})\n",
    "simbad = simbad.rename(columns={\"plx\": \"parallax_simbad\"})   \n",
    "simbad = simbad.rename(columns={\"spec.type\": \"sptype_simbad\"})     \n",
    "simbad = simbad.rename(columns={\"radvel\": \"RV_simbad\"})    \n",
    "simbad = simbad.rename(columns={\"MagV\": \"Vmag_simbad\"})\n",
    "\n",
    "# Columns format\n",
    "cols = simbad.columns.tolist()\n",
    "objects = [\"hip\", \"name_simbad\", \"sptype_simbad\"]\n",
    "cols = [x for x in cols if x not in objects]\n",
    "simbad[cols] = simbad[cols].apply(pd.to_numeric, errors='coerce')\n",
    "\n",
    "# Delete null astrometry values\n",
    "n1 = len(simbad)\n",
    "simbad.dropna(subset=[\"ra_simbad\", \"dec_simbad\", \"parallax_simbad\"], how=\"any\", inplace=True)      \n",
    "n2 = len(simbad)\n",
    "\n",
    "print(\"\\nDatabase Simbad:\", \"\\nOriginal objects:\", n1,\"\\nDiscarded objects:\", n1-n2,\"\\nFinal objects:\", n2)\n"
   ]
  },
  {
   "cell_type": "markdown",
   "metadata": {},
   "source": [
    "## =============================================================================\n",
    "## Create database with unique astrometry values\n",
    "## ============================================================================="
   ]
  },
  {
   "cell_type": "code",
   "execution_count": 24,
   "metadata": {},
   "outputs": [
    {
     "name": "stdout",
     "output_type": "stream",
     "text": [
      "\n",
      "Building database with just one astrometry source per star:\n",
      "Input from Hipparcos: 24557\n",
      "Input from Tycho: 164550\n",
      "Input from Simbad: 67\n",
      "Total lenght: 2214419\n"
     ]
    }
   ],
   "source": [
    "print(\"\\nBuilding database with just one astrometry source per star:\")\n",
    "\n",
    "# db = Gaia + Hipparcos\n",
    "db = pd.DataFrame()\n",
    "gaia[\"source_astro\"] = \"gaia\"\n",
    "exclusive_hip = hipparcos[~hipparcos.hip.isin(gaia_hip.hip)]\n",
    "exclusive_hip.rename(columns=lambda x: x.replace(\"_hip\", \"\"), inplace=True)\n",
    "exclusive_hip[\"source_astro\"] = \"hipparcos\"\n",
    "db = pd.concat([gaia, exclusive_hip], axis=0)\n",
    "print(\"Input from Hipparcos:\", len(exclusive_hip))\n",
    "\n",
    "# db = db + Tycho\n",
    "exclusive_tyc = tycho[~tycho.tycho2_id.isin(gaia_tyc.tycho2_id)]\n",
    "exclusive_tyc.rename(columns=lambda x: x.replace(\"_tyc\", \"\"), inplace=True)\n",
    "exclusive_tyc[\"source_astro\"] = \"tycho\"\n",
    "db = pd.concat([db, exclusive_tyc], axis=0)\n",
    "print(\"Input from Tycho:\", len(exclusive_tyc))\n",
    "\n",
    "# db = db + Simbad\n",
    "exclusive_simbad = simbad[~simbad.hip.isin(db.hip)]\n",
    "exclusive_simbad.rename(columns=lambda x: x.replace(\"_simbad\", \"\"), inplace=True)\n",
    "exclusive_simbad = exclusive_simbad.loc[:,[\"hip\", \"ra\", \"dec\", \"parallax\", \"pmra\", \"pmdec\"]]\n",
    "exclusive_simbad[\"source_astro\"] = \"simbad\"\n",
    "db = pd.concat([db, exclusive_simbad], axis=0)\n",
    "print(\"Input from Simbad:\", len(exclusive_simbad))\n",
    "\n",
    "# Clean np.NaN in objects produced by concat method\n",
    "db.replace({\"hip\":{np.NaN:\"\"},\"tycho2_id\":{np.NaN:\"\"},\"source_id\":{np.NaN:\"\"},\"HenryDraperId\":{np.NaN:\"\"}}, inplace=True)\n",
    "\n",
    "# Merge db + Simbad new columns\n",
    "db = db.merge(simbad[[\"hip\", \"name_simbad\",\"sptype_simbad\",\"RV_simbad\",\"Vmag_simbad\"]], on=\"hip\", how=\"left\")\n",
    "\n",
    "# Merge db + HipVanLeeuwen2007 new columns\n",
    "db = db.merge(hipvan[['hip', 'Hpmag_hip', 'e_Hpmag_hip', 'B_V_hip', 'e_B_V_hip', 'V_I_hip']], on='hip', how='left')\n",
    "\n",
    "#db[\"id\"] = db.hip.combine(db.tycho2_id, lambda x, y: x if x is not \"\" else y)\n",
    "db[\"id\"] = db.hip.astype(str) + db.tycho2_id.astype(str)\n",
    "\n",
    "# Change the order of database columns\n",
    "cols = [\"id\", \"source_astro\"] + cols_gaia + [\"Vmag\",\"HenryDraperId\"] + \\\n",
    "       [\"name_simbad\",\"sptype_simbad\",\"RV_simbad\",\"Vmag_simbad\"] + \\\n",
    "       ['Hpmag_hip', 'e_Hpmag_hip', 'B_V_hip', 'e_B_V_hip', 'V_I_hip']\n",
    "db = db[cols]\n",
    "\n",
    "#Remove all stars without astrometric errors\n",
    "errors=[\"ra_error\",\"dec_error\",\"parallax_error\",\"pmra_error\",\"pmdec_error\"]\n",
    "db.dropna(subset=errors,how=\"any\",inplace=True)\n",
    "\n",
    "db = db.reset_index(drop=True)\n",
    "\n",
    "print(\"Total lenght:\", len(db))"
   ]
  },
  {
   "cell_type": "markdown",
   "metadata": {},
   "source": [
    "# =============================================================================\n",
    "# Full database with the information of all the catalogs\n",
    "# ============================================================================="
   ]
  },
  {
   "cell_type": "code",
   "execution_count": 25,
   "metadata": {},
   "outputs": [
    {
     "name": "stdout",
     "output_type": "stream",
     "text": [
      "\n",
      "Merging astrometry databases (it keeps data of all sources):\n",
      "Gaia objects (initial lenght of database): 2026210\n",
      "Hipparcos objects: 117955 | Input from Hipparcos: 24557 | Final lenght of database: 2050767\n",
      "Hipparcos improved objects: 113942 | Input from Hipparcos improved: 0 | Final lenght of database: 2050767\n",
      "Tycho objects: 579054 | Input from Tycho: 164550 | Final lenght of database: 2215317\n",
      "Simbad objects: 118004 | Input from Simbad: 67 | Final lenght of database: 2215384\n"
     ]
    }
   ],
   "source": [
    "print(\"\\nMerging astrometry databases (it keeps data of all sources):\")\n",
    "\n",
    "database = pd.DataFrame()\n",
    "\n",
    "n1 = len(gaia)\n",
    "print(\"Gaia objects (initial lenght of database):\", n1)\n",
    "\n",
    "database = gaia.merge(hipparcos, on=\"hip\", how=\"outer\")\n",
    "n2 = len(database)\n",
    "print(\"Hipparcos objects:\", len(hipparcos), \"| Input from Hipparcos:\", n2-n1, \"| Final lenght of database:\", n2)\n",
    "\n",
    "database = database.merge(hipvan, on=\"hip\", how=\"outer\")\n",
    "n21 = len(database)\n",
    "print(\"Hipparcos improved objects:\", len(hipvan), \"| Input from Hipparcos improved:\", n21-n2, \"| Final lenght of database:\", n21)\n",
    "\n",
    "database = database.merge(tycho, on=\"tycho2_id\", how=\"outer\")\n",
    "n3 = len(database)\n",
    "print(\"Tycho objects:\", len(tycho), \"| Input from Tycho:\", n3-n2, \"| Final lenght of database:\", n3)\n",
    "\n",
    "database = database.merge(simbad, on=\"hip\", how=\"outer\")\n",
    "n4 = len(database)\n",
    "print(\"Simbad objects:\", len(simbad),  \"| Input from Simbad:\", n4-n3, \"| Final lenght of database:\", n4)\n",
    "\n",
    "#database[\"id\"] = database.hip.combine(database.tycho2_id, lambda x, y: x if x is not \"\" else y)\n",
    "database[\"id\"] = database.hip.astype(str) + database.tycho2_id.astype(str)\n",
    "\n",
    "#Remove all stars without astrometric errors\n",
    "database.dropna(subset=[\"ra_error\",\"dec_error\",\"parallax_error\",\"pmra_error\",\"pmdec_error\"],how=\"any\",inplace=True)\n",
    "\n",
    "database = database.reset_index(drop=True)"
   ]
  },
  {
   "cell_type": "markdown",
   "metadata": {},
   "source": [
    "# =============================================================================\n",
    "# Load radial velocities databases\n",
    "# ============================================================================="
   ]
  },
  {
   "cell_type": "code",
   "execution_count": 26,
   "metadata": {},
   "outputs": [
    {
     "name": "stdout",
     "output_type": "stream",
     "text": [
      "\n",
      "Radial velocity databases:\n"
     ]
    }
   ],
   "source": [
    "t1 = time.time()\n",
    "print(\"\\nRadial velocity databases:\")\n",
    "radialv = {}"
   ]
  },
  {
   "cell_type": "markdown",
   "metadata": {},
   "source": [
    "## RAVE-DR5"
   ]
  },
  {
   "cell_type": "code",
   "execution_count": 27,
   "metadata": {},
   "outputs": [
    {
     "name": "stdout",
     "output_type": "stream",
     "text": [
      "\n",
      " RAVE-DR5.tsv \n",
      "Original objects: 520701 \n",
      "Discarded: 0 \n",
      "Final objects: 520701\n"
     ]
    }
   ],
   "source": [
    "# =============================================================================\n",
    "# RAVE-DR5\n",
    "# =============================================================================\n",
    "\n",
    "file = \"RAVE-DR5.tsv\"\n",
    "cols = [\"HRV\", \"e_HRV\", \"TGAS\", \"TYCHO2\"]\n",
    "delimiter = \";\"\n",
    "\n",
    "data = pd.DataFrame()\n",
    "data = pd.DataFrame(pd.read_csv(dir_rv + file, usecols=cols, delimiter=delimiter, \n",
    "                                skiprows = list(np.arange(78)) + [79, 80]))\n",
    "\n",
    "data.rename(columns={\"HRV\": \"RV\", \"e_HRV\": \"e_RV\", \"TGAS\": \"source_id\", \"TYCHO2\": \"tycho2_id\"}, inplace=True)\n",
    "data = data.merge(gaia.loc[:,[\"source_id\",\"hip\"]], left_on=\"source_id\", right_on=\"source_id\", how=\"left\")\n",
    "data.source_id = data.source_id.str.strip()\n",
    "data.tycho2_id = data.tycho2_id.str.strip()\n",
    "data.hip.replace(np.nan,\"\", inplace=True)\n",
    "\n",
    "data[\"source_rv\"] = file\n",
    "data[\"source_erv\"] = \"Catalogue\"\n",
    "data.source_erv[data.e_RV.isnull()] = \"median\"\n",
    "median = data.e_RV[data.e_RV>0].median()\n",
    "data.e_RV[data.e_RV.isnull()] = median\n",
    "data.e_RV[data.e_RV==0] = median\n",
    "n1 = len(data)\n",
    "data.dropna(subset=[\"RV\"], inplace=True)\n",
    "n2 = len(data)\n",
    "radialv[file] = data\n",
    "print(\"\\n\", file, \"\\nOriginal objects:\", n1, \"\\nDiscarded:\", n1-n2, \"\\nFinal objects:\", n2)"
   ]
  },
  {
   "cell_type": "markdown",
   "metadata": {},
   "source": [
    "## BB2000"
   ]
  },
  {
   "cell_type": "code",
   "execution_count": 75,
   "metadata": {},
   "outputs": [
    {
     "name": "stdout",
     "output_type": "stream",
     "text": [
      "\n",
      " BB2000.csv \n",
      "Original objects: 673 \n",
      "Discarded: 0 \n",
      "Final objects: 673\n"
     ]
    }
   ],
   "source": [
    "# =============================================================================\n",
    "# BB2000\n",
    "# =============================================================================\n",
    "\n",
    "file = \"BB2000.csv\"\n",
    "cols = [\"RV\", \"e_RV\", \"TYC1\", \"TYC2\", \"TYC3\"]\n",
    "delimiter = \",\"\n",
    "\n",
    "data = pd.DataFrame()\n",
    "data = pd.DataFrame(pd.read_csv(dir_rv + file, usecols=cols, delimiter=delimiter))\n",
    "\n",
    "data[\"tycho2_id\"] = data.TYC1.astype(str) + \"-\" + data.TYC2.astype(str) + \"-\" + data.TYC3.astype(str)\n",
    "del data[\"TYC1\"], data[\"TYC2\"], data[\"TYC3\"]\n",
    "\n",
    "data[\"source_rv\"] = file\n",
    "data[\"source_erv\"] = \"Catalogue\"\n",
    "data.source_erv[data.e_RV.isnull()] = \"median\"\n",
    "median = data.e_RV[data.e_RV>0].median()\n",
    "\n",
    "data.e_RV[data.e_RV.isnull()] = median\n",
    "data.e_RV[data.e_RV==0] = median\n",
    "\n",
    "n1 = len(data)\n",
    "data.dropna(subset=[\"RV\"], inplace=True)\n",
    "n2 = len(data)\n",
    "radialv[file] = data\n",
    "print(\"\\n\", file, \"\\nOriginal objects:\", n1, \"\\nDiscarded:\", n1-n2, \"\\nFinal objects:\", n2)"
   ]
  },
  {
   "cell_type": "markdown",
   "metadata": {},
   "source": [
    "## Famaey2005.tsv"
   ]
  },
  {
   "cell_type": "code",
   "execution_count": 29,
   "metadata": {},
   "outputs": [
    {
     "name": "stdout",
     "output_type": "stream",
     "text": [
      "\n",
      " Famaey2005.tsv \n",
      "Original objects: 6690 \n",
      "Discarded: 662 \n",
      "Final objects: 6028\n"
     ]
    }
   ],
   "source": [
    "# =============================================================================\n",
    "# Famaey2005.tsv\n",
    "# =============================================================================\n",
    "\n",
    "file = \"Famaey2005.tsv\"\n",
    "cols = [\"RV\", \"e_RV\", \"HIP\"]\n",
    "delimiter = \";\"\n",
    "\n",
    "data = pd.DataFrame()\n",
    "data = pd.DataFrame(pd.read_csv(dir_rv + file, usecols=cols, delimiter=delimiter, \n",
    "                                skiprows = list(np.arange(118)) + [119, 120]))\n",
    "\n",
    "data.rename(columns={\"HIP\": \"hip\"}, inplace=True)\n",
    "data.hip = data.hip.astype(str)\n",
    "data.RV = pd.to_numeric(data.RV, errors=\"coerce\")\n",
    "\n",
    "data[\"source_rv\"] = file\n",
    "data[\"source_erv\"] = \"Catalogue\"\n",
    "data.source_erv[data.e_RV.isnull()] = \"median\"\n",
    "median = data.e_RV[data.e_RV>0].median()\n",
    "data.e_RV[data.e_RV.isnull()] = median\n",
    "data.e_RV[data.e_RV==0] = median\n",
    "n1 = len(data)\n",
    "data.dropna(subset=[\"RV\"], inplace=True)\n",
    "n2 = len(data)\n",
    "radialv[file] = data\n",
    "print(\"\\n\", file, \"\\nOriginal objects:\", n1, \"\\nDiscarded:\", n1-n2, \"\\nFinal objects:\", n2)"
   ]
  },
  {
   "cell_type": "markdown",
   "metadata": {},
   "source": [
    "## Galah.tsv - Without e_RV"
   ]
  },
  {
   "cell_type": "code",
   "execution_count": 30,
   "metadata": {},
   "outputs": [
    {
     "name": "stdout",
     "output_type": "stream",
     "text": [
      "\n",
      " Galah.tsv \n",
      "Original objects: 10680 \n",
      "Discarded: 0 \n",
      "Final objects: 10680\n"
     ]
    }
   ],
   "source": [
    "# =============================================================================\n",
    "# Galah.tsv - Without e_RV\n",
    "# =============================================================================\n",
    "\n",
    "file = \"Galah.tsv\"\n",
    "cols = [\"RV\", \"TYC2\"]\n",
    "delimiter = \";\"\n",
    "\n",
    "data = pd.DataFrame()\n",
    "data = pd.DataFrame(pd.read_csv(dir_rv + file, usecols=cols, delimiter=delimiter, \n",
    "                                skiprows = list(np.arange(54)) + [55, 56]))\n",
    "\n",
    "data.rename(columns={\"TYC2\": \"tycho2_id\"}, inplace=True)\n",
    "data[\"tycho2_id\"] = data[\"tycho2_id\"].map(lambda x: x.replace(\"-\", \" \"))\n",
    "data[\"a\"], data[\"b\"], data[\"c\"] = data[\"tycho2_id\"].str.split().str\n",
    "data[\"a\"] = pd.to_numeric(data[\"a\"])\n",
    "data[\"b\"] = pd.to_numeric(data[\"b\"])\n",
    "data[\"c\"] = pd.to_numeric(data[\"c\"])\n",
    "data[\"tycho2_id\"] = data[\"a\"].astype(str) + \"-\" + data[\"b\"].astype(str) + \"-\" + data[\"c\"].astype(str)\n",
    "del data[\"a\"], data[\"b\"], data[\"c\"]\n",
    "\n",
    "data[\"source_rv\"] = file\n",
    "data[\"source_erv\"] = \"Without_info\"\n",
    "n1 = len(data)\n",
    "data.dropna(subset=[\"RV\"], inplace=True)\n",
    "\n",
    "data[\"e_RV\"] = 0.6 \n",
    "\n",
    "n2 = len(data)\n",
    "radialv[file] = data\n",
    "print(\"\\n\", file, \"\\nOriginal objects:\", n1, \"\\nDiscarded:\", n1-n2, \"\\nFinal objects:\", n2)"
   ]
  },
  {
   "cell_type": "markdown",
   "metadata": {},
   "source": [
    "## GCS2011.tsv"
   ]
  },
  {
   "cell_type": "code",
   "execution_count": 31,
   "metadata": {},
   "outputs": [
    {
     "name": "stdout",
     "output_type": "stream",
     "text": [
      "\n",
      " GCS2011.tsv \n",
      "Original objects: 16682 \n",
      "Discarded: 2543 \n",
      "Final objects: 14139\n"
     ]
    }
   ],
   "source": [
    "# =============================================================================\n",
    "# GCS2011.tsv\n",
    "# =============================================================================\n",
    "\n",
    "file = \"GCS2011.tsv\"\n",
    "cols = [\"RV\", \"e_RV\", \"HIP\", \"Name\"]\n",
    "delimiter = \"|\"\n",
    "\n",
    "data = pd.DataFrame()\n",
    "data = pd.DataFrame(pd.read_csv(dir_rv + file, usecols=cols, delimiter=delimiter, \n",
    "                               skiprows = list(np.arange(174)) + [175, 176]))\n",
    "\n",
    "data.rename(columns={\"HIP\":\"hip\", \"Name\":\"name\"}, inplace=True)\n",
    "data.RV = pd.to_numeric(data.RV, errors=\"coerce\")\n",
    "data.e_RV = pd.to_numeric(data.e_RV, errors=\"coerce\")\n",
    "data.hip = data.hip.str.strip()\n",
    "data.name = data.name.str.strip()\n",
    "\n",
    "data[\"source_rv\"] = file\n",
    "data[\"source_erv\"] = \"Catalogue\"\n",
    "data.source_erv[data.e_RV.isnull()] = \"median\"\n",
    "median = data.e_RV[data.e_RV>0].median()\n",
    "data.e_RV[data.e_RV.isnull()] = median\n",
    "data.e_RV[data.e_RV==0] = median\n",
    "n1 = len(data)\n",
    "data.dropna(subset=[\"RV\"], inplace=True)\n",
    "n2 = len(data)\n",
    "radialv[file] = data\n",
    "print(\"\\n\", file, \"\\nOriginal objects:\", n1, \"\\nDiscarded:\", n1-n2, \"\\nFinal objects:\", n2)"
   ]
  },
  {
   "cell_type": "markdown",
   "metadata": {},
   "source": [
    "## Malaroda2012.csv - Without e_RV"
   ]
  },
  {
   "cell_type": "code",
   "execution_count": 32,
   "metadata": {},
   "outputs": [
    {
     "name": "stdout",
     "output_type": "stream",
     "text": [
      "\n",
      " Malaroda2012.csv \n",
      "Original objects: 2178 \n",
      "Discarded: 146 \n",
      "Final objects: 2032\n"
     ]
    }
   ],
   "source": [
    "# =============================================================================\n",
    "# Malaroda2012.csv - Without e_RV\n",
    "# =============================================================================\n",
    "\n",
    "file = \"Malaroda2012.csv\"\n",
    "cols = [\"RV\", \"HIP\", \"TYC1\", \"TYC2\", \"TYC3\"]\n",
    "delimiter = \",\"\n",
    "\n",
    "data = pd.DataFrame()\n",
    "data = pd.DataFrame(pd.read_csv(dir_rv + file, usecols=cols, delimiter=delimiter))\n",
    "\n",
    "data.rename(columns={\"HIP\":\"hip\"}, inplace=True)\n",
    "\n",
    "data[\"tycho2_id\"] = data.TYC1.astype(str) + \"-\" + data.TYC2.astype(str) + \"-\" + data.TYC3.astype(str)\n",
    "del data[\"TYC1\"], data[\"TYC2\"], data[\"TYC3\"]\n",
    "\n",
    "data[\"e_RV\"]=1.0\n",
    "data[\"source_rv\"] = file\n",
    "data[\"source_erv\"] = \"Without_info\"\n",
    "n1 = len(data)\n",
    "data.dropna(subset=[\"RV\"], inplace=True)\n",
    "n2 = len(data)\n",
    "radialv[file] = data\n",
    "print(\"\\n\", file, \"\\nOriginal objects:\", n1, \"\\nDiscarded:\", n1-n2, \"\\nFinal objects:\", n2)"
   ]
  },
  {
   "cell_type": "markdown",
   "metadata": {},
   "source": [
    "## Maldonado2010.tsv"
   ]
  },
  {
   "cell_type": "code",
   "execution_count": 33,
   "metadata": {},
   "outputs": [
    {
     "name": "stdout",
     "output_type": "stream",
     "text": [
      "\n",
      " Maldonado2010.tsv \n",
      "Original objects: 495 \n",
      "Discarded: 22 \n",
      "Final objects: 473\n"
     ]
    }
   ],
   "source": [
    "# =============================================================================\n",
    "# Maldonado2010.tsv\n",
    "# =============================================================================\n",
    "\n",
    "file = \"Maldonado2010.tsv\"\n",
    "cols = [\"RV\", \"e_RV\", \"HIP\"]\n",
    "delimiter = \";\"\n",
    "\n",
    "data = pd.DataFrame()\n",
    "data = pd.DataFrame(pd.read_csv(dir_rv + file, usecols=cols, delimiter=delimiter, \n",
    "                               skiprows = list(np.arange(82)) + [83, 84]))\n",
    "\n",
    "data.rename(columns={\"HIP\":\"hip\"}, inplace=True)\n",
    "data.RV = pd.to_numeric(data.RV, errors=\"coerce\")\n",
    "data.e_RV = pd.to_numeric(data.e_RV, errors=\"coerce\")\n",
    "data.hip = data.hip.astype(str)\n",
    "\n",
    "data[\"source_rv\"] = file\n",
    "data[\"source_erv\"] = \"Catalogue\"\n",
    "data.source_erv[data.e_RV.isnull()] = \"median\"\n",
    "median = data.e_RV[data.e_RV>0].median()\n",
    "data.e_RV[data.e_RV.isnull()] = median\n",
    "data.e_RV[data.e_RV==0] = median\n",
    "n1 = len(data)\n",
    "data.dropna(subset=[\"RV\"], inplace=True)\n",
    "n2 = len(data)\n",
    "radialv[file] = data\n",
    "print(\"\\n\", file, \"\\nOriginal objects:\", n1, \"\\nDiscarded:\", n1-n2, \"\\nFinal objects:\", n2)"
   ]
  },
  {
   "cell_type": "markdown",
   "metadata": {},
   "source": [
    "## Pulkovo.tsv"
   ]
  },
  {
   "cell_type": "code",
   "execution_count": 34,
   "metadata": {},
   "outputs": [
    {
     "name": "stdout",
     "output_type": "stream",
     "text": [
      "\n",
      " Pulkovo.tsv \n",
      "Original objects: 35493 \n",
      "Discarded: 0 \n",
      "Final objects: 35493\n"
     ]
    }
   ],
   "source": [
    "# =============================================================================\n",
    "# Pulkovo.tsv\n",
    "# =============================================================================\n",
    "\n",
    "file = \"Pulkovo.tsv\"\n",
    "cols = [\"RV\", \"e_RV\", \"HIP\"]\n",
    "delimiter = \";\"\n",
    "\n",
    "data = pd.DataFrame()\n",
    "data = pd.DataFrame(pd.read_csv(dir_rv + file, usecols=cols, delimiter=delimiter, \n",
    "                               skiprows = list(np.arange(61)) + [62, 63]))\n",
    "\n",
    "data.rename(columns={\"HIP\":\"hip\"}, inplace=True)\n",
    "data.hip = data.hip.astype(str)\n",
    "\n",
    "data[\"source_rv\"] = file\n",
    "data[\"source_erv\"] = \"Catalogue\"\n",
    "data.source_erv[data.e_RV.isnull()] = \"median\"\n",
    "\n",
    "median = data.e_RV[data.e_RV>0].median()\n",
    "data.e_RV[data.e_RV.isnull()] = median\n",
    "data.e_RV[data.e_RV==0] = median\n",
    "\n",
    "n1 = len(data)\n",
    "data.dropna(subset=[\"RV\"], inplace=True)\n",
    "n2 = len(data)\n",
    "radialv[file] = data\n",
    "print(\"\\n\", file, \"\\nOriginal objects:\", n1, \"\\nDiscarded:\", n1-n2, \"\\nFinal objects:\", n2)\n"
   ]
  },
  {
   "cell_type": "markdown",
   "metadata": {},
   "source": [
    "## Web1995-HIP.csv"
   ]
  },
  {
   "cell_type": "code",
   "execution_count": 35,
   "metadata": {},
   "outputs": [
    {
     "name": "stdout",
     "output_type": "stream",
     "text": [
      "\n",
      " Web1995-HIP.csv \n",
      "Original objects: 494 \n",
      "Discarded: 0 \n",
      "Final objects: 494\n"
     ]
    }
   ],
   "source": [
    "# =============================================================================\n",
    "# Web1995-HIP.csv\n",
    "# =============================================================================\n",
    "\n",
    "file = \"Web1995-HIP.csv\"\n",
    "cols = [\"RV\", \"e_RV\", \"HIP\"]\n",
    "delimiter = \",\"\n",
    "\n",
    "data = pd.DataFrame()\n",
    "data = pd.DataFrame(pd.read_csv(dir_rv + file, usecols=cols, delimiter=delimiter))\n",
    "\n",
    "data.rename(columns={\"HIP\":\"hip\"}, inplace=True)\n",
    "data.hip = data.hip.astype(str)\n",
    "\n",
    "data[\"source_rv\"] = file\n",
    "data[\"source_erv\"] = \"Catalogue\"\n",
    "data.source_erv[data.e_RV.isnull()] = \"median\"\n",
    "median = data.e_RV[data.e_RV>0].median()\n",
    "\n",
    "data.e_RV[data.e_RV.isnull()] = median\n",
    "data.e_RV[data.e_RV==0] = median\n",
    "\n",
    "n1 = len(data)\n",
    "data.dropna(subset=[\"RV\"], inplace=True)\n",
    "n2 = len(data)\n",
    "radialv[file] = data\n",
    "print(\"\\n\", file, \"\\nOriginal objects:\", n1, \"\\nDiscarded:\", n1-n2, \"\\nFinal objects:\", n2)"
   ]
  },
  {
   "cell_type": "markdown",
   "metadata": {},
   "source": [
    "## Web1995-TYC2.csv"
   ]
  },
  {
   "cell_type": "code",
   "execution_count": 36,
   "metadata": {},
   "outputs": [
    {
     "name": "stdout",
     "output_type": "stream",
     "text": [
      "\n",
      " Web1995-TYC2.csv \n",
      "Original objects: 673 \n",
      "Discarded: 0 \n",
      "Final objects: 673\n"
     ]
    }
   ],
   "source": [
    "# =============================================================================\n",
    "# Web1995-TYC2.csv\n",
    "# =============================================================================\n",
    "\n",
    "file = \"Web1995-TYC2.csv\"\n",
    "cols = [\"RV\", \"e_RV\", \"TYC1\", \"TYC2\", \"TYC3\"]\n",
    "delimiter = \",\"\n",
    "\n",
    "data = pd.DataFrame()\n",
    "data = pd.DataFrame(pd.read_csv(dir_rv + file, usecols=cols, delimiter=delimiter))\n",
    "\n",
    "data[\"tycho2_id\"] = data.TYC1.astype(str) + \"-\" + data.TYC2.astype(str) + \"-\" + data.TYC3.astype(str)\n",
    "del data[\"TYC1\"], data[\"TYC2\"], data[\"TYC3\"]\n",
    "\n",
    "data[\"source_rv\"] = file\n",
    "data[\"source_erv\"] = \"Catalogue\"\n",
    "data.source_erv[data.e_RV.isnull()] = \"median\"\n",
    "median = data.e_RV[data.e_RV>0].median()\n",
    "data.e_RV[data.e_RV.isnull()] = median\n",
    "data.e_RV[data.e_RV==0] = median\n",
    "n1 = len(data)\n",
    "data.dropna(subset=[\"RV\"], inplace=True)\n",
    "n2 = len(data)\n",
    "radialv[file] = data\n",
    "print(\"\\n\", file, \"\\nOriginal objects:\", n1, \"\\nDiscarded:\", n1-n2, \"\\nFinal objects:\", n2)\n"
   ]
  },
  {
   "cell_type": "markdown",
   "metadata": {},
   "source": [
    "## APOGEE2 (taken from RVcat of Bailer-Jones 2017)"
   ]
  },
  {
   "cell_type": "code",
   "execution_count": 37,
   "metadata": {},
   "outputs": [
    {
     "name": "stdout",
     "output_type": "stream",
     "text": [
      "\n",
      " RVcat.csv.zip \n",
      "Original objects: 29173 \n",
      "Discarded: 0 \n",
      "Final objects: 29173\n"
     ]
    }
   ],
   "source": [
    "# =============================================================================\n",
    "# RVcat.csv.zip\n",
    "# =============================================================================\n",
    "file = \"RVcat.csv.zip\"\n",
    "cols = [\"RV\", \"RVerr\", \"tychoID\",\"cat\"]\n",
    "delimiter = \",\"\n",
    "\n",
    "data = pd.DataFrame()\n",
    "data = pd.DataFrame(pd.read_csv(dir_rv + file, usecols=cols, delimiter=delimiter))\n",
    "\n",
    "#Choose only objects from apogee database\n",
    "data = data[data.cat==10]\n",
    "\n",
    "data.rename(columns={\"RVerr\":\"e_RV\", \"tychoID\":\"tycho2_id\"}, inplace=True)\n",
    "\n",
    "data[\"source_rv\"] = file\n",
    "data[\"source_erv\"] = \"Catalogue\"\n",
    "n1 = len(data)\n",
    "data.dropna(subset=[\"e_RV\"], inplace=True)\n",
    "data.dropna(subset=[\"RV\"], inplace=True)\n",
    "n2 = len(data)\n",
    "radialv[file] = data\n",
    "print(\"\\n\", file, \"\\nOriginal objects:\", n1, \"\\nDiscarded:\", n1-n2, \"\\nFinal objects:\", n2)"
   ]
  },
  {
   "cell_type": "markdown",
   "metadata": {},
   "source": [
    "## =============================================================================\n",
    "## Radial velocity databases integration\n",
    "## ============================================================================="
   ]
  },
  {
   "cell_type": "code",
   "execution_count": 38,
   "metadata": {},
   "outputs": [
    {
     "name": "stdout",
     "output_type": "stream",
     "text": [
      "\n",
      "Radial velocity databases integration:\n",
      "Objects number with different VR and e_VR combination: 407189\n",
      "Objects number with different VR and the same minimun e_VR: 335367\n",
      "Objects number without duplicates (just one register per star): 332551\n"
     ]
    }
   ],
   "source": [
    "print(\"\\nRadial velocity databases integration:\")\n",
    "\n",
    "t2 = time.time()\n",
    "RV = pd.DataFrame()\n",
    "RV = pd.concat([radialv[\"RAVE-DR5.tsv\"], radialv[\"BB2000.csv\"], radialv[\"Famaey2005.tsv\"], \n",
    "                radialv[\"Galah.tsv\"], radialv[\"GCS2011.tsv\"], radialv[\"Malaroda2012.csv\"], \n",
    "                radialv[\"Maldonado2010.tsv\"], radialv[\"Pulkovo.tsv\"], radialv[\"Web1995-HIP.csv\"], \n",
    "                radialv[\"Web1995-TYC2.csv\"], radialv[\"RVcat.csv.zip\"]], axis = 0)\n",
    "RV.hip.replace(np.NaN, \"\", inplace=True)\n",
    "RV.tycho2_id.replace(np.NaN, \"\", inplace=True)\n",
    "RV.source_id.replace(np.NaN, \"\", inplace=True)\n",
    "RV.name.replace(np.NaN, \"\", inplace=True)\n",
    "RV[\"id\"] = RV.hip.astype(str) + RV.tycho2_id.astype(str)\n",
    "\n",
    "# Drop objects with incomplete astrometry information or with both RV and e_RV duplicates\n",
    "RV1 = RV.copy()\n",
    "RV1 = RV1[RV1.e_RV.notnull()]\n",
    "RV1 = RV1[RV1.id != \"\"]\n",
    "\n",
    "# RV1 => Various records per star with different VR and e_VR combination are allowed\n",
    "RV1.drop_duplicates(subset=[\"id\",\"RV\",\"e_RV\"], keep=\"first\", inplace=True)\n",
    "\n",
    "# RV2 => Keep only object with minimum e_RV value (various records per star with the same e_VR are allowed)\n",
    "RV2 = pd.DataFrame()\n",
    "RV_min_eRV = RV1.groupby(\"id\", as_index=False).e_RV.min()\n",
    "RV2 = RV1.merge(RV_min_eRV, on=[\"id\",\"e_RV\"], how=\"inner\")\n",
    "\n",
    "# RV3 => Keep only one object with minimum e_RV value (Just one record per star is allowed)\n",
    "RV3 = pd.DataFrame()\n",
    "RV3 = RV2.drop_duplicates(subset=[\"id\",\"e_RV\"], keep=\"first\")\n",
    "\n",
    "print(\"Objects number with different VR and e_VR combination:\", len(RV1))\n",
    "print(\"Objects number with different VR and the same minimun e_VR:\", len(RV2))\n",
    "print(\"Objects number without duplicates (just one register per star):\", len(RV3))\n",
    "\n",
    "t3 = time.time()"
   ]
  },
  {
   "cell_type": "markdown",
   "metadata": {},
   "source": [
    "## =============================================================================\n",
    "## Full integration\n",
    "## ============================================================================="
   ]
  },
  {
   "cell_type": "code",
   "execution_count": 39,
   "metadata": {},
   "outputs": [
    {
     "name": "stdout",
     "output_type": "stream",
     "text": [
      "\n",
      "Objects in AstroRV (without duplicates): 285114\n",
      "\n",
      "Objects in AstroRV per source: source_rv\n",
      "BB2000.csv              503\n",
      "Famaey2005.tsv         5544\n",
      "GCS2011.tsv            7091\n",
      "Galah.tsv              7837\n",
      "Malaroda2012.csv        416\n",
      "Maldonado2010.tsv       301\n",
      "Pulkovo.tsv           23412\n",
      "RAVE-DR5.tsv         217257\n",
      "RVcat.csv.zip         22501\n",
      "Web1995-HIP.csv         252\n",
      "Name: source_rv, dtype: int64\n",
      "Number of objects with hipparcos id: 36699\n",
      "Number of objects with tycho2 id: 248415\n"
     ]
    }
   ],
   "source": [
    "# Building AstroRV's databases\n",
    "AstroRVDuplicates = pd.DataFrame()\n",
    "AstroRVDuplicates = db.merge(RV1[[\"id\", \"RV\", \"e_RV\", \"source_rv\", \"source_erv\"]], on=\"id\", how=\"right\")\n",
    "\n",
    "AstroRV = pd.DataFrame()\n",
    "AstroRV = db.merge(RV3[[\"id\", \"RV\", \"e_RV\", \"source_rv\", \"source_erv\"]], on=\"id\", how=\"right\")\n",
    "\n",
    "# Drop objects with incomplet astrometry information\n",
    "AstroRVDuplicates.dropna(subset=[\"parallax\"], inplace=True)\n",
    "AstroRV.dropna(subset=[\"parallax\"], inplace=True)\n",
    "\n",
    "# Remove spaces from simbad names\n",
    "for txt_field in \"name_simbad\",\"sptype_simbad\",\"HenryDraperId\":\n",
    "    AstroRV[txt_field]=AstroRV[txt_field].fillna('')\n",
    "    AstroRV[txt_field]=AstroRV[txt_field].map(lambda x:'NULL' if x=='' else re.sub('[\\s\\\",]+','_',x).strip('_'))\n",
    "\n",
    "    AstroRVDuplicates[txt_field]=AstroRVDuplicates[txt_field].fillna('')\n",
    "    AstroRVDuplicates[txt_field]=AstroRVDuplicates[txt_field].map(lambda x:'NULL' if x=='' else re.sub('[\\s\\\",]+','_',x).strip('_'))\n",
    "\n",
    "# Report\n",
    "print(\"\\nObjects in AstroRV (without duplicates):\", len(AstroRV))\n",
    "print(\"\\nObjects in AstroRV per source:\", AstroRV.groupby(AstroRV.source_rv).source_rv.count())\n",
    "\n",
    "print(\"Number of objects with hipparcos id:\",(AstroRV.hip!=\"\").sum())\n",
    "\n",
    "report=dict()\n",
    "print(\"Number of objects with tycho2 id:\",(AstroRV.tycho2_id!=\"\").sum())"
   ]
  },
  {
   "cell_type": "code",
   "execution_count": null,
   "metadata": {},
   "outputs": [],
   "source": [
    "#Save databases\n",
    "AstroRVDuplicates.to_csv(dir_results + \"AstroRVFull.csv\", index=False)\n",
    "AstroRV.to_csv(dir_results + \"AstroRV.csv\", index=False)"
   ]
  },
  {
   "cell_type": "markdown",
   "metadata": {},
   "source": [
    "## =============================================================================\n",
    "## Summaries\n",
    "## ============================================================================="
   ]
  },
  {
   "cell_type": "code",
   "execution_count": 158,
   "metadata": {},
   "outputs": [
    {
     "name": "stdout",
     "output_type": "stream",
     "text": [
      "GAIA TGAS:\n",
      "\tNumber of objects: 2026210\n",
      "\tHipparcos: 93398\n",
      "\tTycho: 1932812\n",
      "\tContribution: 2026210\n",
      "Hipparcos:\n",
      "\tNumber of objects: 117955\n",
      "\tHipparcos: 117955\n",
      "\tTycho: 0\n",
      "\tContribution: 24557\n",
      "Tycho:\n",
      "\tNumber of objects: 579054\n",
      "\tHipparcos: 0\n",
      "\tTycho: 579054\n",
      "\tContribution: 164550\n",
      "Simbad:\n",
      "\tNumber of objects: 118004\n",
      "\tHipparcos: 118004\n",
      "\tTycho: 0\n",
      "\tContribution: 67\n",
      "Summary:\n",
      "\tTotal: 2841223\n",
      "\tHipparcos: 329357\n",
      "\tTycho: 2511866\n",
      "\tCatalog: 2215384\n",
      "Catalog  WEB1995\n",
      "\tCatalog Web1995-TYC2.csv...\n",
      "\tCatalog Web1995-HIP.csv...\n",
      "\tTotal: 1167\n",
      "\tHipparcos: 494\n",
      "\tTycho: 673\n",
      "\tContribution: 252\n",
      "Catalog  GCS\n",
      "\tCatalog GCS2011.tsv...\n",
      "\tTotal: 14139\n",
      "\tHipparcos: 12977\n",
      "\tTycho: 0\n",
      "\tContribution: 7091\n",
      "Catalog  RAVE-DR5\n",
      "\tCatalog RAVE-DR5.tsv...\n",
      "\tTotal: 520701\n",
      "\tHipparcos: 121\n",
      "\tTycho: 309596\n",
      "\tContribution: 217257\n",
      "Catalog  PULKOVO\n",
      "\tCatalog Pulkovo.tsv...\n",
      "\tTotal: 35493\n",
      "\tHipparcos: 35493\n",
      "\tTycho: 0\n",
      "\tContribution: 23412\n",
      "Catalog  FAMAEY2005\n",
      "\tCatalog Famaey2005.tsv...\n",
      "\tTotal: 6028\n",
      "\tHipparcos: 6028\n",
      "\tTycho: 0\n",
      "\tContribution: 5544\n",
      "Catalog  BB2000\n",
      "\tCatalog BB2000.csv...\n",
      "\tTotal: 673\n",
      "\tHipparcos: 0\n",
      "\tTycho: 673\n",
      "\tContribution: 503\n",
      "Catalog  MALARODA\n",
      "\tCatalog Malaroda2012.csv...\n",
      "\tTotal: 2032\n",
      "\tHipparcos: 0\n",
      "\tTycho: 2032\n",
      "\tContribution: 416\n",
      "Catalog  GALAH\n",
      "\tCatalog Galah.tsv...\n",
      "\tTotal: 10680\n",
      "\tHipparcos: 0\n",
      "\tTycho: 10680\n",
      "\tContribution: 7837\n",
      "Catalog  MALDONADO\n",
      "\tCatalog Maldonado2010.tsv...\n",
      "\tTotal: 473\n",
      "\tHipparcos: 473\n",
      "\tTycho: 0\n",
      "\tContribution: 301\n",
      "Catalog  APOGEE2\n",
      "\tCatalog RVcat.csv.zip...\n",
      "\tTotal: 29173\n",
      "\tHipparcos: 0\n",
      "\tTycho: 29173\n",
      "\tContribution: 22501\n",
      "Summary radial velocities:\n",
      "\tTotal: 620559\n",
      "\tHipparcos: 55586\n",
      "\tTycho: 352827\n",
      "\tCatalog: 285114\n"
     ]
    },
    {
     "name": "stderr",
     "output_type": "stream",
     "text": [
      "/home/iwander/.local/lib/python3.5/site-packages/pandas/core/ops.py:816: FutureWarning: elementwise comparison failed; returning scalar instead, but in the future will perform elementwise comparison\n",
      "  result = getattr(x, name)(y)\n"
     ]
    }
   ],
   "source": [
    "report=dict()\n",
    "\n",
    "print(\"GAIA TGAS:\")\n",
    "rep=report[\"Gaia TGAS\"]=dict()\n",
    "rep[\"ref\"]=\"I/337/tgas & (1)\"\n",
    "rep[\"total\"]=len(gaia)\n",
    "rep[\"hip\"]=(gaia.hip!=\"\").sum()\n",
    "rep[\"tyc\"]=(gaia.tycho2_id!=\"\").sum()\n",
    "rep[\"cont\"]=len(gaia)\n",
    "print(\"\\tNumber of objects:\",rep[\"total\"])\n",
    "print(\"\\tHipparcos:\",rep[\"hip\"])\n",
    "print(\"\\tTycho:\",rep[\"tyc\"])\n",
    "print(\"\\tContribution:\",rep[\"cont\"])\n",
    "\n",
    "print(\"Hipparcos:\")\n",
    "rep=report[\"Hipparcos\"]=dict()\n",
    "rep[\"ref\"]=\"I/239/hip\\_main & (2)\"\n",
    "rep[\"total\"]=len(hipparcos)\n",
    "rep[\"hip\"]=(hipparcos.hip!=\"\").sum()\n",
    "rep[\"tyc\"]=0\n",
    "rep[\"cont\"]=len(exclusive_hip)\n",
    "print(\"\\tNumber of objects:\",rep[\"total\"])\n",
    "print(\"\\tHipparcos:\",rep[\"hip\"])\n",
    "print(\"\\tTycho:\",rep[\"tyc\"])\n",
    "print(\"\\tContribution:\",rep[\"cont\"])\n",
    "\n",
    "print(\"Tycho:\")\n",
    "rep=report[\"Tycho\"]=dict()\n",
    "rep[\"ref\"]=\"I/259/tyc2 & (2)\"\n",
    "rep[\"total\"]=len(tycho)\n",
    "rep[\"hip\"]=0\n",
    "rep[\"tyc\"]=(tycho.tycho2_id!=\"\").sum()\n",
    "rep[\"cont\"]=len(exclusive_tyc)\n",
    "print(\"\\tNumber of objects:\",rep[\"total\"])\n",
    "print(\"\\tHipparcos:\",rep[\"hip\"])\n",
    "print(\"\\tTycho:\",rep[\"tyc\"])\n",
    "print(\"\\tContribution:\",rep[\"cont\"])\n",
    "\n",
    "print(\"Simbad:\")\n",
    "rep=report[\"Simbad\"]=dict()\n",
    "rep[\"ref\"]=\"-- & (3)\"\n",
    "rep[\"total\"]=len(simbad)\n",
    "rep[\"hip\"]=(simbad.hip!=\"\").sum()\n",
    "rep[\"tyc\"]=0\n",
    "rep[\"cont\"]=len(exclusive_simbad)\n",
    "print(\"\\tNumber of objects:\",rep[\"total\"])\n",
    "print(\"\\tHipparcos:\",rep[\"hip\"])\n",
    "print(\"\\tTycho:\",rep[\"tyc\"])\n",
    "print(\"\\tContribution:\",rep[\"cont\"])\n",
    "\n",
    "astro_cats=[\"Gaia TGAS\",\"Hipparcos\",\"Tycho\",\"Simbad\"]\n",
    "report[\"astro_total\"]=0\n",
    "report[\"astro_hip\"]=0\n",
    "report[\"astro_tyc\"]=0\n",
    "report[\"astro_cont\"]=0\n",
    "for cat in astro_cats:report[\"astro_total\"]+=report[cat][\"total\"]\n",
    "for cat in astro_cats:report[\"astro_hip\"]+=report[cat][\"hip\"]\n",
    "for cat in astro_cats:report[\"astro_tyc\"]+=report[cat][\"tyc\"]\n",
    "for cat in astro_cats:report[\"astro_cont\"]+=report[cat][\"cont\"]\n",
    "print(\"Summary:\")    \n",
    "print(\"\\tTotal:\",report[\"astro_total\"])\n",
    "print(\"\\tHipparcos:\",report[\"astro_hip\"])\n",
    "print(\"\\tTycho:\",report[\"astro_tyc\"])\n",
    "print(\"\\tCatalog:\",report[\"astro_cont\"])\n",
    "\n",
    "rv_cats=collections.OrderedDict([\n",
    "    [\"WEB1995\",dict(cat=[\"Web1995-TYC2.csv\",\"Web1995-HIP.csv\"],ref=r\"III/213 & (5)\")],\n",
    "    [\"GCS\",dict(cat=[\"GCS2011.tsv\"],ref=r\"J/A+A/530/A138 & (6)\")],\n",
    "    [\"RAVE-DR5\",dict(cat=[\"RAVE-DR5.tsv\"],ref=r\"III/279/rave\\_dr5 & (7)\")],\n",
    "    [\"PULKOVO\",dict(cat=[\"Pulkovo.tsv\"],ref=r\"III/252/table8 & (8)\")],\n",
    "    [\"FAMAEY2005\",dict(cat=[\"Famaey2005.tsv\"],ref=r\"J/A+A/430/165/tablea1 & (9)\")],\n",
    "    [\"BB2000\",dict(cat=[\"BB2000.csv\"],ref=r\"III/213 & (10)\")],\n",
    "    [\"MALARODA\",dict(cat=[\"Malaroda2012.csv\"],ref=r\"III/249/catalog & (11)\")],\n",
    "    [\"GALAH\",dict(cat=[\"Galah.tsv\"],ref=r\"J/MNRAS/465/3203 & (12)\")],\n",
    "    [\"MALDONADO\",dict(cat=[\"Maldonado2010.tsv\"],ref=r\"J/A+A/521/A12/table1 & (13)\")],\n",
    "    [\"APOGEE2\",dict(cat=[\"RVcat.csv.zip\"],ref=\"-- & (14)\")]\n",
    "    ])\n",
    "\n",
    "i=0\n",
    "for key in rv_cats.keys():\n",
    "    cats=rv_cats[key][\"cat\"]\n",
    "    print(\"Catalog \",key)\n",
    "    report[key]=dict()\n",
    "    for k in \"total\",\"hip\",\"tyc\",\"cont\":report[key][k]=0\n",
    "    for cat in cats:\n",
    "        print(\"\\tCatalog %s...\"%cat)\n",
    "        report[key][\"total\"]+=len(radialv[cat])\n",
    "        try:report[key][\"hip\"]+=(radialv[cat].hip!=\"\").sum()\n",
    "        except:report[key][\"hip\"]+=0\n",
    "        try:report[key][\"tyc\"]+=(radialv[cat].tycho2_id!=\"\").sum()\n",
    "        except:report[key][\"tyc\"]+=0\n",
    "        report[key][\"cont\"]+=(AstroRV.source_rv==cat).sum()\n",
    "    print(\"\\tTotal:\",report[key][\"total\"])\n",
    "    print(\"\\tHipparcos:\",report[key][\"hip\"])\n",
    "    print(\"\\tTycho:\",report[key][\"tyc\"])\n",
    "    print(\"\\tContribution:\",report[key][\"cont\"])\n",
    "    i+=1\n",
    "\n",
    "report[\"rv_total\"]=0\n",
    "report[\"rv_hip\"]=0\n",
    "report[\"rv_tyc\"]=0\n",
    "report[\"rv_cont\"]=0\n",
    "cats=rv_cats.keys()\n",
    "for cat in cats:report[\"rv_total\"]+=report[cat][\"total\"]\n",
    "for cat in cats:report[\"rv_hip\"]+=report[cat][\"hip\"]\n",
    "for cat in cats:report[\"rv_tyc\"]+=report[cat][\"tyc\"]\n",
    "for cat in cats:report[\"rv_cont\"]+=report[cat][\"cont\"]\n",
    "print(\"Summary radial velocities:\")    \n",
    "print(\"\\tTotal:\",report[\"rv_total\"])\n",
    "print(\"\\tHipparcos:\",report[\"rv_hip\"])\n",
    "print(\"\\tTycho:\",report[\"rv_tyc\"])\n",
    "print(\"\\tCatalog:\",report[\"rv_cont\"])"
   ]
  },
  {
   "cell_type": "code",
   "execution_count": null,
   "metadata": {},
   "outputs": [],
   "source": []
  },
  {
   "cell_type": "code",
   "execution_count": 165,
   "metadata": {},
   "outputs": [
    {
     "name": "stdout",
     "output_type": "stream",
     "text": [
      "Done.\n"
     ]
    }
   ],
   "source": [
    "f=open(dir_results+\"AstroRVSummary.tex\",\"w\")\n",
    "\n",
    "#Header\n",
    "f.write(r\"\"\"\\begin{table*}\n",
    "\\centering\n",
    "\\scriptsize\n",
    "\\begin{tabular}{lllllll}\n",
    "\\hline \n",
    "Catalog name & Number of objects & Hipparcos ID & Tycho-2 ID & Contribution & CDS Code & Reference \\\\\\hline\\hline\n",
    "\\multicolumn{7}{c}{\\tt Astrometric} \\\\\n",
    "\\hline\n",
    "\n",
    "\"\"\")\n",
    "\n",
    "#Astrometry\n",
    "for cat in astro_cats:\n",
    "    hip=str(report[cat][\"hip\"]) if report[cat][\"hip\"]>0 else \"--\"\n",
    "    tyc=str(report[cat][\"tyc\"]) if report[cat][\"tyc\"]>0 else \"--\"\n",
    "    f.write(r\"\"\"%s & %d & %s & %s & %d & \\tt %s \\\\\\\n",
    "\n",
    "\"\"\"%(cat,report[cat][\"total\"],hip,tyc,report[cat][\"cont\"],report[cat][\"ref\"]))\n",
    "\n",
    "f.write(r\"\"\"\n",
    "  \\hline\n",
    "  {\\tt Totals} & \\bf %d & \\bf %d & \\bf %d & \\bf %d & This work \\\\\n",
    "  \\hline\n",
    "\"\"\"%(report[\"astro_total\"],report[\"astro_hip\"],report[\"astro_tyc\"],report[\"astro_cont\"]))\n",
    "\n",
    "#Radial Velocity catalogues\n",
    "f.write(r\"\"\"\n",
    "  \\multicolumn{7}{c}{\\tt Radial velocities} \\\\\n",
    "  \\hline\n",
    "\"\"\")\n",
    "\n",
    "for cat in rv_cats.keys():\n",
    "    hip=str(report[cat][\"hip\"]) if report[cat][\"hip\"]>0 else \"--\"\n",
    "    tyc=str(report[cat][\"tyc\"]) if report[cat][\"tyc\"]>0 else \"--\"\n",
    "    f.write(r\"\"\"%s & %d & %s & %s & %d & \\tt %s \\\\\\\n",
    "\n",
    "\"\"\"%(cat,report[cat][\"total\"],hip,tyc,report[cat][\"cont\"],rv_cats[cat][\"ref\"]))\n",
    "\n",
    "f.write(r\"\"\"\n",
    "  \\hline\n",
    "  {\\tt AstroRV} & \\bf %d & \\bf %d & \\bf %d & \\bf %d & This work \\\\\n",
    "  \\hline\n",
    "\"\"\"%(report[\"rv_total\"],report[\"rv_hip\"],report[\"rv_tyc\"],report[\"rv_cont\"]))\n",
    "\n",
    "#Footer\n",
    "f.write(r\"\"\"\n",
    "\\end{tabular}\n",
    "\\caption{Catalogs used to compile the {\\tt AstroRV} catalog for this work. References: (1) \\citealt{Brown2016}, (2) \\citealt{ESA1997} (3) \\citealt{Wenger2000}, (5) \\citealt{Barbier2000a}, (6) \\citealt{Casagrande2011}, (7) \\citealt{Kunder2017}, (8)  \\citealt{Gontcharov2006}, (9) \\citealt{Famaey2005}, (10) \\citealt{Barbier2000b}, (11) \\citealt{Malaroda2000}, (12) \\citealt{Martell2016}, (13) \\citealt{Maldonado2010}, (14) \\citealt{Bailer2017}.\n",
    "\\label{tab:AstroRV}}\n",
    "\\end{table*}\n",
    "\"\"\")\n",
    "f.close()\n",
    "\n",
    "print(\"Done.\")"
   ]
  },
  {
   "cell_type": "code",
   "execution_count": null,
   "metadata": {},
   "outputs": [],
   "source": []
  }
 ],
 "metadata": {
  "kernelspec": {
   "display_name": "Python 3",
   "language": "python",
   "name": "python3"
  },
  "language_info": {
   "codemirror_mode": {
    "name": "ipython",
    "version": 3
   },
   "file_extension": ".py",
   "mimetype": "text/x-python",
   "name": "python",
   "nbconvert_exporter": "python",
   "pygments_lexer": "ipython3",
   "version": "3.5.2"
  }
 },
 "nbformat": 4,
 "nbformat_minor": 2
}
